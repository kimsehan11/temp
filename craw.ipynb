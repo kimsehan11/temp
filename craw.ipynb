{
 "cells": [
  {
   "cell_type": "markdown",
   "id": "8b55e56c",
   "metadata": {},
   "source": [
    "# 맘카페 크롤링"
   ]
  },
  {
   "cell_type": "code",
   "execution_count": null,
   "id": "eb4f9d3e",
   "metadata": {},
   "outputs": [],
   "source": [
    "from selenium import webdriver"
   ]
  }
 ],
 "metadata": {
  "kernelspec": {
   "display_name": "llm_env",
   "language": "python",
   "name": "python3"
  },
  "language_info": {
   "name": "python",
   "version": "3.12.11"
  }
 },
 "nbformat": 4,
 "nbformat_minor": 5
}
