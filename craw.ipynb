{
 "cells": [
  {
   "cell_type": "markdown",
   "id": "8b55e56c",
   "metadata": {},
   "source": [
    "# 맘카페 크롤링"
   ]
  },
  {
   "cell_type": "code",
   "execution_count": 12,
   "id": "01775b2e",
   "metadata": {},
   "outputs": [],
   "source": [
    "# !pip install selenium\n",
    "# !pip install dotenv\n",
    "# !pip install beautifulsoup4"
   ]
  },
  {
   "cell_type": "code",
   "execution_count": 2,
   "id": "498f602a",
   "metadata": {},
   "outputs": [],
   "source": [
    "# selenium의 webdriver를 사용하기 위한 import\n",
    "from selenium import webdriver\n",
    "\n",
    "# selenium으로 키를 조작하기 위한 import\n",
    "from selenium.webdriver.common.keys import Keys\n",
    "from selenium.webdriver.common.by import By\n",
    "# 페이지 로딩을 기다리는데에 사용할 time 모듈 import\n",
    "import time"
   ]
  },
  {
   "cell_type": "code",
   "execution_count": 5,
   "id": "bf0ea700",
   "metadata": {},
   "outputs": [],
   "source": [
    "from dotenv import load_dotenv\n",
    "import os\n",
    "load_dotenv()\n",
    "user_id = os.getenv(\"MOM_ID\")\n",
    "user_pw = os.getenv(\"MOM_PASSWORD\")"
   ]
  },
  {
   "cell_type": "code",
   "execution_count": 13,
   "id": "6dc876fb",
   "metadata": {},
   "outputs": [],
   "source": [
    "from selenium.webdriver.common.by import By\n",
    "from selenium.webdriver.support.ui import WebDriverWait\n",
    "from selenium.webdriver.support import expected_conditions as EC\n",
    "from bs4 import BeautifulSoup\n",
    "import json"
   ]
  },
  {
   "cell_type": "code",
   "execution_count": null,
   "id": "a55c9517",
   "metadata": {},
   "outputs": [
    {
     "ename": "NoSuchWindowException",
     "evalue": "Message: no such window: target window already closed\nfrom unknown error: web view not found\n  (Session info: chrome=140.0.7339.82)\nStacktrace:\n\tGetHandleVerifier [0x0x7ff66098fc95+79861]\n\tGetHandleVerifier [0x0x7ff66098fcf0+79952]\n\t(No symbol) [0x0x7ff66070cada]\n\t(No symbol) [0x0x7ff6606e4b91]\n\t(No symbol) [0x0x7ff6607940fe]\n\t(No symbol) [0x0x7ff6607b48c2]\n\t(No symbol) [0x0x7ff66078c8b3]\n\t(No symbol) [0x0x7ff660755272]\n\t(No symbol) [0x0x7ff660756043]\n\tGetHandleVerifier [0x0x7ff660c4b9cd+2946349]\n\tGetHandleVerifier [0x0x7ff660c45c4a+2922410]\n\tGetHandleVerifier [0x0x7ff660c659d7+3052855]\n\tGetHandleVerifier [0x0x7ff6609aaa7e+189918]\n\tGetHandleVerifier [0x0x7ff6609b2a1f+222591]\n\tGetHandleVerifier [0x0x7ff660998ab4+116244]\n\tGetHandleVerifier [0x0x7ff660998c69+116681]\n\tGetHandleVerifier [0x0x7ff66097f048+11176]\n\tBaseThreadInitThunk [0x0x7ffc82c4e8d7+23]\n\tRtlUserThreadStart [0x0x7ffc84ddc34c+44]\n",
     "output_type": "error",
     "traceback": [
      "\u001b[31m---------------------------------------------------------------------------\u001b[39m",
      "\u001b[31mNoSuchWindowException\u001b[39m                     Traceback (most recent call last)",
      "\u001b[36mCell\u001b[39m\u001b[36m \u001b[39m\u001b[32mIn[9]\u001b[39m\u001b[32m, line 26\u001b[39m\n\u001b[32m     24\u001b[39m \u001b[38;5;66;03m# 각 게시글에 순차적으로 방문\u001b[39;00m\n\u001b[32m     25\u001b[39m \u001b[38;5;28;01mfor\u001b[39;00m url \u001b[38;5;129;01min\u001b[39;00m hrefs:\n\u001b[32m---> \u001b[39m\u001b[32m26\u001b[39m     \u001b[43mdriver\u001b[49m\u001b[43m.\u001b[49m\u001b[43mget\u001b[49m\u001b[43m(\u001b[49m\u001b[43murl\u001b[49m\u001b[43m)\u001b[49m\n\u001b[32m     27\u001b[39m     time.sleep(\u001b[32m2\u001b[39m)  \u001b[38;5;66;03m# 게시글 페이지 로딩 대기\u001b[39;00m\n\u001b[32m     28\u001b[39m     \u001b[38;5;66;03m# 여기서 필요한 데이터 추출 코드 작성\u001b[39;00m\n",
      "\u001b[36mFile \u001b[39m\u001b[32mc:\\Users\\Playdata\\anaconda3\\envs\\llm_env\\Lib\\site-packages\\selenium\\webdriver\\remote\\webdriver.py:483\u001b[39m, in \u001b[36mWebDriver.get\u001b[39m\u001b[34m(self, url)\u001b[39m\n\u001b[32m    465\u001b[39m \u001b[38;5;28;01mdef\u001b[39;00m\u001b[38;5;250m \u001b[39m\u001b[34mget\u001b[39m(\u001b[38;5;28mself\u001b[39m, url: \u001b[38;5;28mstr\u001b[39m) -> \u001b[38;5;28;01mNone\u001b[39;00m:\n\u001b[32m    466\u001b[39m \u001b[38;5;250m    \u001b[39m\u001b[33;03m\"\"\"Navigate the browser to the specified URL in the current window or\u001b[39;00m\n\u001b[32m    467\u001b[39m \u001b[33;03m    tab.\u001b[39;00m\n\u001b[32m    468\u001b[39m \n\u001b[32m   (...)\u001b[39m\u001b[32m    481\u001b[39m \u001b[33;03m    >>> driver.get(\"https://example.com\")\u001b[39;00m\n\u001b[32m    482\u001b[39m \u001b[33;03m    \"\"\"\u001b[39;00m\n\u001b[32m--> \u001b[39m\u001b[32m483\u001b[39m     \u001b[38;5;28;43mself\u001b[39;49m\u001b[43m.\u001b[49m\u001b[43mexecute\u001b[49m\u001b[43m(\u001b[49m\u001b[43mCommand\u001b[49m\u001b[43m.\u001b[49m\u001b[43mGET\u001b[49m\u001b[43m,\u001b[49m\u001b[43m \u001b[49m\u001b[43m{\u001b[49m\u001b[33;43m\"\u001b[39;49m\u001b[33;43murl\u001b[39;49m\u001b[33;43m\"\u001b[39;49m\u001b[43m:\u001b[49m\u001b[43m \u001b[49m\u001b[43murl\u001b[49m\u001b[43m}\u001b[49m\u001b[43m)\u001b[49m\n",
      "\u001b[36mFile \u001b[39m\u001b[32mc:\\Users\\Playdata\\anaconda3\\envs\\llm_env\\Lib\\site-packages\\selenium\\webdriver\\remote\\webdriver.py:458\u001b[39m, in \u001b[36mWebDriver.execute\u001b[39m\u001b[34m(self, driver_command, params)\u001b[39m\n\u001b[32m    455\u001b[39m response = cast(RemoteConnection, \u001b[38;5;28mself\u001b[39m.command_executor).execute(driver_command, params)\n\u001b[32m    457\u001b[39m \u001b[38;5;28;01mif\u001b[39;00m response:\n\u001b[32m--> \u001b[39m\u001b[32m458\u001b[39m     \u001b[38;5;28;43mself\u001b[39;49m\u001b[43m.\u001b[49m\u001b[43merror_handler\u001b[49m\u001b[43m.\u001b[49m\u001b[43mcheck_response\u001b[49m\u001b[43m(\u001b[49m\u001b[43mresponse\u001b[49m\u001b[43m)\u001b[49m\n\u001b[32m    459\u001b[39m     response[\u001b[33m\"\u001b[39m\u001b[33mvalue\u001b[39m\u001b[33m\"\u001b[39m] = \u001b[38;5;28mself\u001b[39m._unwrap_value(response.get(\u001b[33m\"\u001b[39m\u001b[33mvalue\u001b[39m\u001b[33m\"\u001b[39m, \u001b[38;5;28;01mNone\u001b[39;00m))\n\u001b[32m    460\u001b[39m     \u001b[38;5;28;01mreturn\u001b[39;00m response\n",
      "\u001b[36mFile \u001b[39m\u001b[32mc:\\Users\\Playdata\\anaconda3\\envs\\llm_env\\Lib\\site-packages\\selenium\\webdriver\\remote\\errorhandler.py:232\u001b[39m, in \u001b[36mErrorHandler.check_response\u001b[39m\u001b[34m(self, response)\u001b[39m\n\u001b[32m    230\u001b[39m         alert_text = value[\u001b[33m\"\u001b[39m\u001b[33malert\u001b[39m\u001b[33m\"\u001b[39m].get(\u001b[33m\"\u001b[39m\u001b[33mtext\u001b[39m\u001b[33m\"\u001b[39m)\n\u001b[32m    231\u001b[39m     \u001b[38;5;28;01mraise\u001b[39;00m exception_class(message, screen, stacktrace, alert_text)  \u001b[38;5;66;03m# type: ignore[call-arg]  # mypy is not smart enough here\u001b[39;00m\n\u001b[32m--> \u001b[39m\u001b[32m232\u001b[39m \u001b[38;5;28;01mraise\u001b[39;00m exception_class(message, screen, stacktrace)\n",
      "\u001b[31mNoSuchWindowException\u001b[39m: Message: no such window: target window already closed\nfrom unknown error: web view not found\n  (Session info: chrome=140.0.7339.82)\nStacktrace:\n\tGetHandleVerifier [0x0x7ff66098fc95+79861]\n\tGetHandleVerifier [0x0x7ff66098fcf0+79952]\n\t(No symbol) [0x0x7ff66070cada]\n\t(No symbol) [0x0x7ff6606e4b91]\n\t(No symbol) [0x0x7ff6607940fe]\n\t(No symbol) [0x0x7ff6607b48c2]\n\t(No symbol) [0x0x7ff66078c8b3]\n\t(No symbol) [0x0x7ff660755272]\n\t(No symbol) [0x0x7ff660756043]\n\tGetHandleVerifier [0x0x7ff660c4b9cd+2946349]\n\tGetHandleVerifier [0x0x7ff660c45c4a+2922410]\n\tGetHandleVerifier [0x0x7ff660c659d7+3052855]\n\tGetHandleVerifier [0x0x7ff6609aaa7e+189918]\n\tGetHandleVerifier [0x0x7ff6609b2a1f+222591]\n\tGetHandleVerifier [0x0x7ff660998ab4+116244]\n\tGetHandleVerifier [0x0x7ff660998c69+116681]\n\tGetHandleVerifier [0x0x7ff66097f048+11176]\n\tBaseThreadInitThunk [0x0x7ffc82c4e8d7+23]\n\tRtlUserThreadStart [0x0x7ffc84ddc34c+44]\n"
     ]
    }
   ],
   "source": [
    "# 크롬드라이버 실행\n",
    "driver = webdriver.Chrome() \n",
    "\n",
    "#로그인 페이지로 이동\n",
    "driver.get('https://mcafe.me/bbs/board.php?bo_table=c_grow&slr_url=https://mcafe.me/bbs/board.php?bo_table=c_grow')\n",
    "\n",
    "\n",
    "# 페이지가 완전히 로딩되도록 3초동안 기다림\n",
    "time.sleep(3)\n",
    "\n",
    "# 2. 아이디/비밀번호 입력\n",
    "input(\"팝업 닫기 등 직접 조작을 마치고 Enter를 누르세요...\")\n",
    "\n",
    "# 게시글 링크 요소 모두 찾기\n",
    "post_links = driver.find_elements(By.XPATH, \"//strong[@class='en']/ancestor::a\")\n",
    "\n",
    "# 중복 제거 및 href 추출\n",
    "hrefs = []\n",
    "for link in post_links:\n",
    "    href = link.get_attribute('href')\n",
    "    if href and href not in hrefs:\n",
    "        hrefs.append(href)\n",
    "\n",
    "# 각 게시글에 순차적으로 방문\n",
    "for url in hrefs:\n",
    "    driver.get(url)\n",
    "    time.sleep(1)  # 게시글 페이지 로딩 대기\n",
    "    # 여기서 필요한 데이터 추출 코드 작성\n",
    "    result = {}\n",
    "    # 대제목 추출\n",
    "    html = driver.page_source\n",
    "    soup = BeautifulSoup(html, 'html.parser')\n",
    "    h2 = soup.find('h2')\n",
    "    if h2:\n",
    "        result['title'] = h2.get_text(strip=True)\n",
    "        result['sections'] = []\n",
    "\n",
    "        # h3와 그 하위 p 태그 추출\n",
    "        for h3 in soup.find_all('h3'):\n",
    "            section = {'subtitle': h3.get_text(strip=True), 'paragraphs': []}\n",
    "            # h3 다음에 나오는 p 태그들을 수집\n",
    "            for sibling in h3.find_next_siblings():\n",
    "                if sibling.name == 'h3':\n",
    "                    break\n",
    "                if sibling.name == 'p':\n",
    "                    section['paragraphs'].append(sibling.get_text(strip=True))\n",
    "            result['sections'].append(section)\n",
    "\n",
    "# 결과를 JSON 문자열로 출력\n",
    "print(json.dumps(result, ensure_ascii=False, indent=2))\n",
    "    \n",
    "    driver.back()  # 목록으로 돌아가기\n",
    "    time.sleep(1)  # 목록 페이지 로딩 대기\n"
   ]
  },
  {
   "cell_type": "code",
   "execution_count": null,
   "id": "c4d99e3a",
   "metadata": {},
   "outputs": [],
   "source": []
  }
 ],
 "metadata": {
  "kernelspec": {
   "display_name": "llm_env",
   "language": "python",
   "name": "python3"
  },
  "language_info": {
   "codemirror_mode": {
    "name": "ipython",
    "version": 3
   },
   "file_extension": ".py",
   "mimetype": "text/x-python",
   "name": "python",
   "nbconvert_exporter": "python",
   "pygments_lexer": "ipython3",
   "version": "3.12.11"
  }
 },
 "nbformat": 4,
 "nbformat_minor": 5
}
